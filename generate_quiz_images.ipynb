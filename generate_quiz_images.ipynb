{
 "cells": [
  {
   "cell_type": "code",
   "execution_count": 24,
   "id": "bce823a5-51cb-47c7-b6cf-2d47f28ed162",
   "metadata": {
    "tags": []
   },
   "outputs": [],
   "source": [
    "#pip install moviepy\n",
    "\n",
    "\n",
    "import cv2\n",
    "import numpy as np\n",
    "import os\n",
    "import json\n",
    "\n",
    "def read_questions_from_json(file_path):\n",
    "    with open(file_path, 'r') as file:\n",
    "        data = json.load(file)\n",
    "    questions_with_options = [(entry[\"question\"], entry[\"options\"], entry[\"answer\"]) for entry in data]\n",
    "    return questions_with_options\n",
    "\n",
    "def generate_question_images(questions_with_options, output_folder):\n",
    "    os.makedirs(output_folder, exist_ok=True)\n",
    "    for i, (question, options, answer) in enumerate(questions_with_options, start=1):\n",
    "        # Generate frame with text (question and options)\n",
    "        frame_options = generate_frame_with_text(question, options)\n",
    "        # Save the frame with options as an image\n",
    "        image_filename = os.path.join(output_folder, f\"question_{i}.png\")\n",
    "        cv2.imwrite(image_filename, frame_options)\n",
    "\n",
    "        # Generate frame with correct answer colored in green\n",
    "        frame_answer = frame_options.copy()\n",
    "        color_correct_answer(frame_answer, options, answer)\n",
    "        # Save the frame with correct answer colored in green as an image\n",
    "        image_answer_filename = os.path.join(output_folder, f\"question_{i}_ans.png\")\n",
    "        cv2.imwrite(image_answer_filename, frame_answer)\n",
    "\n",
    "def generate_frame_with_text(question, options):\n",
    "    frame = np.zeros((1920, 1080, 3), np.uint8)  # Create a black frame (1080x1920 pixels)\n",
    "    cv2.putText(frame, question, (50, 200), cv2.FONT_HERSHEY_SIMPLEX, 2, (255, 255, 255), 4, cv2.LINE_AA)\n",
    "    for i, option in enumerate(options, start=1):\n",
    "        cv2.putText(frame, f\"{chr(96 + i)}. {option}\", (50, 400 + i * 100), cv2.FONT_HERSHEY_SIMPLEX, 1.5, (255, 255, 255), 3, cv2.LINE_AA)\n",
    "    return frame\n",
    "\n",
    "def color_correct_answer(frame, options, answer):\n",
    "    correct_index = options.index(answer)\n",
    "    cv2.putText(frame, f\"{chr(96 + correct_index + 1)}. {options[correct_index]}\", (50, 400 + (correct_index + 1) * 100), cv2.FONT_HERSHEY_SIMPLEX, 1.5, (0, 255, 0), 3, cv2.LINE_AA)\n",
    "\n",
    "if __name__ == \"__main__\":\n",
    "    questions_file = \"questions.json\"\n",
    "    questions_with_options = read_questions_from_json(questions_file)\n",
    "    output_folder = \"question_images\"\n",
    "    generate_question_images(questions_with_options, output_folder)\n"
   ]
  },
  {
   "cell_type": "code",
   "execution_count": null,
   "id": "c54aae5e-873a-4786-98e0-d37af679b2a9",
   "metadata": {},
   "outputs": [],
   "source": []
  }
 ],
 "metadata": {
  "kernelspec": {
   "display_name": "Python 3 (ipykernel)",
   "language": "python",
   "name": "python3"
  },
  "language_info": {
   "codemirror_mode": {
    "name": "ipython",
    "version": 3
   },
   "file_extension": ".py",
   "mimetype": "text/x-python",
   "name": "python",
   "nbconvert_exporter": "python",
   "pygments_lexer": "ipython3",
   "version": "3.11.2"
  }
 },
 "nbformat": 4,
 "nbformat_minor": 5
}
