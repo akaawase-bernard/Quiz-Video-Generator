{
 "cells": [
  {
   "cell_type": "code",
   "execution_count": 17,
   "id": "089bf89d-c45d-4c7e-8601-1cd2ce410d3c",
   "metadata": {
    "tags": []
   },
   "outputs": [
    {
     "name": "stdout",
     "output_type": "stream",
     "text": [
      "Video created successfully: quiz_video.mp4\n"
     ]
    }
   ],
   "source": [
    "import cv2\n",
    "import os\n",
    "\n",
    "def create_video_from_images(image_folder, output_video_path, fps=0.1):\n",
    "    image_files = sorted([f for f in os.listdir(image_folder) if f.endswith('.png')])\n",
    "    \n",
    "    if not image_files:\n",
    "        print(\"No images found in the folder.\")\n",
    "        return\n",
    "    \n",
    "    frame = cv2.imread(os.path.join(image_folder, image_files[0]))\n",
    "    height, width, _ = frame.shape\n",
    "    \n",
    "    fourcc = cv2.VideoWriter_fourcc(*'mp4v')  # Specify video codec\n",
    "    video_writer = cv2.VideoWriter(output_video_path, fourcc, fps, (width, height))\n",
    "    \n",
    "    for image_file in image_files:\n",
    "        image_path = os.path.join(image_folder, image_file)\n",
    "        frame = cv2.imread(image_path)\n",
    "        video_writer.write(frame)\n",
    "    \n",
    "    video_writer.release()\n",
    "    print(f\"Video created successfully: {output_video_path}\")\n",
    "\n",
    "if __name__ == \"__main__\":\n",
    "    image_folder = \"question_images\"\n",
    "    output_video_path = \"quiz_video.mp4\"\n",
    "    create_video_from_images(image_folder, output_video_path)\n"
   ]
  },
  {
   "cell_type": "code",
   "execution_count": null,
   "id": "6c628cc3-cd86-4ad2-8721-93f2a6d34230",
   "metadata": {},
   "outputs": [],
   "source": []
  }
 ],
 "metadata": {
  "kernelspec": {
   "display_name": "Python 3 (ipykernel)",
   "language": "python",
   "name": "python3"
  },
  "language_info": {
   "codemirror_mode": {
    "name": "ipython",
    "version": 3
   },
   "file_extension": ".py",
   "mimetype": "text/x-python",
   "name": "python",
   "nbconvert_exporter": "python",
   "pygments_lexer": "ipython3",
   "version": "3.11.2"
  }
 },
 "nbformat": 4,
 "nbformat_minor": 5
}
